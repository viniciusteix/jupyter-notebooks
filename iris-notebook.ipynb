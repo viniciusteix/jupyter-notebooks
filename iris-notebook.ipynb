{
 "cells": [
  {
   "cell_type": "markdown",
   "metadata": {},
   "source": [
    "# Classificação do conjunto de dados Íris"
   ]
  },
  {
   "cell_type": "markdown",
   "metadata": {},
   "source": [
    "### Definição do Problema"
   ]
  },
  {
   "cell_type": "markdown",
   "metadata": {},
   "source": [
    "O conjunto de dados contém três classes com 50 instâncias cada, onde cada classe se refere a um tipo de planta de íris. As classes são linearmente separáveis umas das outras.\n",
    "\n",
    "Atributo de predição: classe de planta de íris.\n",
    "\n"
   ]
  },
  {
   "cell_type": "markdown",
   "metadata": {},
   "source": [
    "### Importação das bibliotecas"
   ]
  },
  {
   "cell_type": "code",
   "execution_count": 40,
   "metadata": {},
   "outputs": [],
   "source": [
    "%matplotlib inline\n",
    "import pandas as pd\n",
    "import numpy as np\n",
    "from matplotlib import pyplot as plt\n",
    "from sklearn import model_selection\n",
    "from sklearn import linear_model\n",
    "from sklearn.neighbors import KNeighborsClassifier\n",
    "from sklearn import metrics\n",
    "from sklearn import ensemble\n",
    "from sklearn import tree\n",
    "from sklearn import svm\n",
    "from sklearn import neighbors\n",
    "from sklearn import naive_bayes"
   ]
  },
  {
   "cell_type": "markdown",
   "metadata": {},
   "source": [
    "### Carregando e definindo as colunas do dataset"
   ]
  },
  {
   "cell_type": "code",
   "execution_count": 3,
   "metadata": {},
   "outputs": [],
   "source": [
    "columns = ['sepal_comprimento','sepal_largura','petal_comprimento','petal_largura','tipo']\n",
    "data = pd.read_csv('iris-dataset.csv',names=columns)"
   ]
  },
  {
   "cell_type": "markdown",
   "metadata": {},
   "source": [
    "### Visualização e descrição dos dados"
   ]
  },
  {
   "cell_type": "code",
   "execution_count": 4,
   "metadata": {
    "scrolled": true
   },
   "outputs": [
    {
     "data": {
      "text/html": [
       "<div>\n",
       "<style scoped>\n",
       "    .dataframe tbody tr th:only-of-type {\n",
       "        vertical-align: middle;\n",
       "    }\n",
       "\n",
       "    .dataframe tbody tr th {\n",
       "        vertical-align: top;\n",
       "    }\n",
       "\n",
       "    .dataframe thead th {\n",
       "        text-align: right;\n",
       "    }\n",
       "</style>\n",
       "<table border=\"1\" class=\"dataframe\">\n",
       "  <thead>\n",
       "    <tr style=\"text-align: right;\">\n",
       "      <th></th>\n",
       "      <th>sepal_comprimento</th>\n",
       "      <th>sepal_largura</th>\n",
       "      <th>petal_comprimento</th>\n",
       "      <th>petal_largura</th>\n",
       "      <th>tipo</th>\n",
       "    </tr>\n",
       "  </thead>\n",
       "  <tbody>\n",
       "    <tr>\n",
       "      <th>0</th>\n",
       "      <td>5.1</td>\n",
       "      <td>3.5</td>\n",
       "      <td>1.4</td>\n",
       "      <td>0.2</td>\n",
       "      <td>setosa</td>\n",
       "    </tr>\n",
       "    <tr>\n",
       "      <th>1</th>\n",
       "      <td>4.9</td>\n",
       "      <td>3.0</td>\n",
       "      <td>1.4</td>\n",
       "      <td>0.2</td>\n",
       "      <td>setosa</td>\n",
       "    </tr>\n",
       "    <tr>\n",
       "      <th>2</th>\n",
       "      <td>4.7</td>\n",
       "      <td>3.2</td>\n",
       "      <td>1.3</td>\n",
       "      <td>0.2</td>\n",
       "      <td>setosa</td>\n",
       "    </tr>\n",
       "    <tr>\n",
       "      <th>3</th>\n",
       "      <td>4.6</td>\n",
       "      <td>3.1</td>\n",
       "      <td>1.5</td>\n",
       "      <td>0.2</td>\n",
       "      <td>setosa</td>\n",
       "    </tr>\n",
       "    <tr>\n",
       "      <th>4</th>\n",
       "      <td>5.0</td>\n",
       "      <td>3.6</td>\n",
       "      <td>1.4</td>\n",
       "      <td>0.2</td>\n",
       "      <td>setosa</td>\n",
       "    </tr>\n",
       "    <tr>\n",
       "      <th>5</th>\n",
       "      <td>5.4</td>\n",
       "      <td>3.9</td>\n",
       "      <td>1.7</td>\n",
       "      <td>0.4</td>\n",
       "      <td>setosa</td>\n",
       "    </tr>\n",
       "    <tr>\n",
       "      <th>6</th>\n",
       "      <td>4.6</td>\n",
       "      <td>3.4</td>\n",
       "      <td>1.4</td>\n",
       "      <td>0.3</td>\n",
       "      <td>setosa</td>\n",
       "    </tr>\n",
       "    <tr>\n",
       "      <th>7</th>\n",
       "      <td>5.0</td>\n",
       "      <td>3.4</td>\n",
       "      <td>1.5</td>\n",
       "      <td>0.2</td>\n",
       "      <td>setosa</td>\n",
       "    </tr>\n",
       "    <tr>\n",
       "      <th>8</th>\n",
       "      <td>4.4</td>\n",
       "      <td>2.9</td>\n",
       "      <td>1.4</td>\n",
       "      <td>0.2</td>\n",
       "      <td>setosa</td>\n",
       "    </tr>\n",
       "    <tr>\n",
       "      <th>9</th>\n",
       "      <td>4.9</td>\n",
       "      <td>3.1</td>\n",
       "      <td>1.5</td>\n",
       "      <td>0.1</td>\n",
       "      <td>setosa</td>\n",
       "    </tr>\n",
       "  </tbody>\n",
       "</table>\n",
       "</div>"
      ],
      "text/plain": [
       "   sepal_comprimento  sepal_largura  petal_comprimento  petal_largura    tipo\n",
       "0                5.1            3.5                1.4            0.2  setosa\n",
       "1                4.9            3.0                1.4            0.2  setosa\n",
       "2                4.7            3.2                1.3            0.2  setosa\n",
       "3                4.6            3.1                1.5            0.2  setosa\n",
       "4                5.0            3.6                1.4            0.2  setosa\n",
       "5                5.4            3.9                1.7            0.4  setosa\n",
       "6                4.6            3.4                1.4            0.3  setosa\n",
       "7                5.0            3.4                1.5            0.2  setosa\n",
       "8                4.4            2.9                1.4            0.2  setosa\n",
       "9                4.9            3.1                1.5            0.1  setosa"
      ]
     },
     "execution_count": 4,
     "metadata": {},
     "output_type": "execute_result"
    }
   ],
   "source": [
    "data.head(10)"
   ]
  },
  {
   "cell_type": "code",
   "execution_count": 5,
   "metadata": {},
   "outputs": [
    {
     "data": {
      "text/html": [
       "<div>\n",
       "<style scoped>\n",
       "    .dataframe tbody tr th:only-of-type {\n",
       "        vertical-align: middle;\n",
       "    }\n",
       "\n",
       "    .dataframe tbody tr th {\n",
       "        vertical-align: top;\n",
       "    }\n",
       "\n",
       "    .dataframe thead th {\n",
       "        text-align: right;\n",
       "    }\n",
       "</style>\n",
       "<table border=\"1\" class=\"dataframe\">\n",
       "  <thead>\n",
       "    <tr style=\"text-align: right;\">\n",
       "      <th></th>\n",
       "      <th>sepal_comprimento</th>\n",
       "      <th>sepal_largura</th>\n",
       "      <th>petal_comprimento</th>\n",
       "      <th>petal_largura</th>\n",
       "    </tr>\n",
       "  </thead>\n",
       "  <tbody>\n",
       "    <tr>\n",
       "      <th>count</th>\n",
       "      <td>150.000000</td>\n",
       "      <td>150.000000</td>\n",
       "      <td>150.000000</td>\n",
       "      <td>150.000000</td>\n",
       "    </tr>\n",
       "    <tr>\n",
       "      <th>mean</th>\n",
       "      <td>5.843333</td>\n",
       "      <td>3.054000</td>\n",
       "      <td>3.758667</td>\n",
       "      <td>1.198667</td>\n",
       "    </tr>\n",
       "    <tr>\n",
       "      <th>std</th>\n",
       "      <td>0.828066</td>\n",
       "      <td>0.433594</td>\n",
       "      <td>1.764420</td>\n",
       "      <td>0.763161</td>\n",
       "    </tr>\n",
       "    <tr>\n",
       "      <th>min</th>\n",
       "      <td>4.300000</td>\n",
       "      <td>2.000000</td>\n",
       "      <td>1.000000</td>\n",
       "      <td>0.100000</td>\n",
       "    </tr>\n",
       "    <tr>\n",
       "      <th>25%</th>\n",
       "      <td>5.100000</td>\n",
       "      <td>2.800000</td>\n",
       "      <td>1.600000</td>\n",
       "      <td>0.300000</td>\n",
       "    </tr>\n",
       "    <tr>\n",
       "      <th>50%</th>\n",
       "      <td>5.800000</td>\n",
       "      <td>3.000000</td>\n",
       "      <td>4.350000</td>\n",
       "      <td>1.300000</td>\n",
       "    </tr>\n",
       "    <tr>\n",
       "      <th>75%</th>\n",
       "      <td>6.400000</td>\n",
       "      <td>3.300000</td>\n",
       "      <td>5.100000</td>\n",
       "      <td>1.800000</td>\n",
       "    </tr>\n",
       "    <tr>\n",
       "      <th>max</th>\n",
       "      <td>7.900000</td>\n",
       "      <td>4.400000</td>\n",
       "      <td>6.900000</td>\n",
       "      <td>2.500000</td>\n",
       "    </tr>\n",
       "  </tbody>\n",
       "</table>\n",
       "</div>"
      ],
      "text/plain": [
       "       sepal_comprimento  sepal_largura  petal_comprimento  petal_largura\n",
       "count         150.000000     150.000000         150.000000     150.000000\n",
       "mean            5.843333       3.054000           3.758667       1.198667\n",
       "std             0.828066       0.433594           1.764420       0.763161\n",
       "min             4.300000       2.000000           1.000000       0.100000\n",
       "25%             5.100000       2.800000           1.600000       0.300000\n",
       "50%             5.800000       3.000000           4.350000       1.300000\n",
       "75%             6.400000       3.300000           5.100000       1.800000\n",
       "max             7.900000       4.400000           6.900000       2.500000"
      ]
     },
     "execution_count": 5,
     "metadata": {},
     "output_type": "execute_result"
    }
   ],
   "source": [
    "data.describe()"
   ]
  },
  {
   "cell_type": "code",
   "execution_count": 6,
   "metadata": {},
   "outputs": [
    {
     "name": "stdout",
     "output_type": "stream",
     "text": [
      "(150, 5)\n"
     ]
    }
   ],
   "source": [
    "print(data.shape)"
   ]
  },
  {
   "cell_type": "code",
   "execution_count": 7,
   "metadata": {},
   "outputs": [
    {
     "name": "stdout",
     "output_type": "stream",
     "text": [
      "tipo\n",
      "setosa        50\n",
      "versicolor    50\n",
      "virginica     50\n",
      "dtype: int64\n"
     ]
    }
   ],
   "source": [
    "print(data.groupby('tipo').size())"
   ]
  },
  {
   "cell_type": "code",
   "execution_count": 8,
   "metadata": {},
   "outputs": [
    {
     "data": {
      "image/png": "[encoded data removed]",
      "text/plain": [
       "<matplotlib.figure.Figure at 0x7f1c5eb091d0>"
      ]
     },
     "metadata": {},
     "output_type": "display_data"
    }
   ],
   "source": [
    "data.hist();"
   ]
  },
  {
   "cell_type": "code",
   "execution_count": 9,
   "metadata": {},
   "outputs": [
    {
     "data": {
      "text/html": [
       "<div>\n",
       "<style scoped>\n",
       "    .dataframe tbody tr th:only-of-type {\n",
       "        vertical-align: middle;\n",
       "    }\n",
       "\n",
       "    .dataframe tbody tr th {\n",
       "        vertical-align: top;\n",
       "    }\n",
       "\n",
       "    .dataframe thead th {\n",
       "        text-align: right;\n",
       "    }\n",
       "</style>\n",
       "<table border=\"1\" class=\"dataframe\">\n",
       "  <thead>\n",
       "    <tr style=\"text-align: right;\">\n",
       "      <th></th>\n",
       "      <th>sepal_comprimento</th>\n",
       "      <th>sepal_largura</th>\n",
       "      <th>petal_comprimento</th>\n",
       "      <th>petal_largura</th>\n",
       "    </tr>\n",
       "  </thead>\n",
       "  <tbody>\n",
       "    <tr>\n",
       "      <th>sepal_comprimento</th>\n",
       "      <td>1.000000</td>\n",
       "      <td>-0.109369</td>\n",
       "      <td>0.871754</td>\n",
       "      <td>0.817954</td>\n",
       "    </tr>\n",
       "    <tr>\n",
       "      <th>sepal_largura</th>\n",
       "      <td>-0.109369</td>\n",
       "      <td>1.000000</td>\n",
       "      <td>-0.420516</td>\n",
       "      <td>-0.356544</td>\n",
       "    </tr>\n",
       "    <tr>\n",
       "      <th>petal_comprimento</th>\n",
       "      <td>0.871754</td>\n",
       "      <td>-0.420516</td>\n",
       "      <td>1.000000</td>\n",
       "      <td>0.962757</td>\n",
       "    </tr>\n",
       "    <tr>\n",
       "      <th>petal_largura</th>\n",
       "      <td>0.817954</td>\n",
       "      <td>-0.356544</td>\n",
       "      <td>0.962757</td>\n",
       "      <td>1.000000</td>\n",
       "    </tr>\n",
       "  </tbody>\n",
       "</table>\n",
       "</div>"
      ],
      "text/plain": [
       "                   sepal_comprimento  sepal_largura  petal_comprimento  \\\n",
       "sepal_comprimento           1.000000      -0.109369           0.871754   \n",
       "sepal_largura              -0.109369       1.000000          -0.420516   \n",
       "petal_comprimento           0.871754      -0.420516           1.000000   \n",
       "petal_largura               0.817954      -0.356544           0.962757   \n",
       "\n",
       "                   petal_largura  \n",
       "sepal_comprimento       0.817954  \n",
       "sepal_largura          -0.356544  \n",
       "petal_comprimento       0.962757  \n",
       "petal_largura           1.000000  "
      ]
     },
     "execution_count": 9,
     "metadata": {},
     "output_type": "execute_result"
    }
   ],
   "source": [
    "data.corr()"
   ]
  },
  {
   "cell_type": "markdown",
   "metadata": {},
   "source": [
    "### Criação do dataset de validação"
   ]
  },
  {
   "cell_type": "code",
   "execution_count": 10,
   "metadata": {},
   "outputs": [
    {
     "name": "stdout",
     "output_type": "stream",
     "text": [
      "[[5.1 3.5 1.4 0.2 'setosa']\n",
      " [4.9 3.0 1.4 0.2 'setosa']\n",
      " [4.7 3.2 1.3 0.2 'setosa']\n",
      " [4.6 3.1 1.5 0.2 'setosa']\n",
      " [5.0 3.6 1.4 0.2 'setosa']\n",
      " [5.4 3.9 1.7 0.4 'setosa']\n",
      " [4.6 3.4 1.4 0.3 'setosa']\n",
      " [5.0 3.4 1.5 0.2 'setosa']\n",
      " [4.4 2.9 1.4 0.2 'setosa']\n",
      " [4.9 3.1 1.5 0.1 'setosa']\n",
      " [5.4 3.7 1.5 0.2 'setosa']\n",
      " [4.8 3.4 1.6 0.2 'setosa']\n",
      " [4.8 3.0 1.4 0.1 'setosa']\n",
      " [4.3 3.0 1.1 0.1 'setosa']\n",
      " [5.8 4.0 1.2 0.2 'setosa']\n",
      " [5.7 4.4 1.5 0.4 'setosa']\n",
      " [5.4 3.9 1.3 0.4 'setosa']\n",
      " [5.1 3.5 1.4 0.3 'setosa']\n",
      " [5.7 3.8 1.7 0.3 'setosa']\n",
      " [5.1 3.8 1.5 0.3 'setosa']\n",
      " [5.4 3.4 1.7 0.2 'setosa']\n",
      " [5.1 3.7 1.5 0.4 'setosa']\n",
      " [4.6 3.6 1.0 0.2 'setosa']\n",
      " [5.1 3.3 1.7 0.5 'setosa']\n",
      " [4.8 3.4 1.9 0.2 'setosa']\n",
      " [5.0 3.0 1.6 0.2 'setosa']\n",
      " [5.0 3.4 1.6 0.4 'setosa']\n",
      " [5.2 3.5 1.5 0.2 'setosa']\n",
      " [5.2 3.4 1.4 0.2 'setosa']\n",
      " [4.7 3.2 1.6 0.2 'setosa']\n",
      " [4.8 3.1 1.6 0.2 'setosa']\n",
      " [5.4 3.4 1.5 0.4 'setosa']\n",
      " [5.2 4.1 1.5 0.1 'setosa']\n",
      " [5.5 4.2 1.4 0.2 'setosa']\n",
      " [4.9 3.1 1.5 0.1 'setosa']\n",
      " [5.0 3.2 1.2 0.2 'setosa']\n",
      " [5.5 3.5 1.3 0.2 'setosa']\n",
      " [4.9 3.1 1.5 0.1 'setosa']\n",
      " [4.4 3.0 1.3 0.2 'setosa']\n",
      " [5.1 3.4 1.5 0.2 'setosa']\n",
      " [5.0 3.5 1.3 0.3 'setosa']\n",
      " [4.5 2.3 1.3 0.3 'setosa']\n",
      " [4.4 3.2 1.3 0.2 'setosa']\n",
      " [5.0 3.5 1.6 0.6 'setosa']\n",
      " [5.1 3.8 1.9 0.4 'setosa']\n",
      " [4.8 3.0 1.4 0.3 'setosa']\n",
      " [5.1 3.8 1.6 0.2 'setosa']\n",
      " [4.6 3.2 1.4 0.2 'setosa']\n",
      " [5.3 3.7 1.5 0.2 'setosa']\n",
      " [5.0 3.3 1.4 0.2 'setosa']\n",
      " [7.0 3.2 4.7 1.4 'versicolor']\n",
      " [6.4 3.2 4.5 1.5 'versicolor']\n",
      " [6.9 3.1 4.9 1.5 'versicolor']\n",
      " [5.5 2.3 4.0 1.3 'versicolor']\n",
      " [6.5 2.8 4.6 1.5 'versicolor']\n",
      " [5.7 2.8 4.5 1.3 'versicolor']\n",
      " [6.3 3.3 4.7 1.6 'versicolor']\n",
      " [4.9 2.4 3.3 1.0 'versicolor']\n",
      " [6.6 2.9 4.6 1.3 'versicolor']\n",
      " [5.2 2.7 3.9 1.4 'versicolor']\n",
      " [5.0 2.0 3.5 1.0 'versicolor']\n",
      " [5.9 3.0 4.2 1.5 'versicolor']\n",
      " [6.0 2.2 4.0 1.0 'versicolor']\n",
      " [6.1 2.9 4.7 1.4 'versicolor']\n",
      " [5.6 2.9 3.6 1.3 'versicolor']\n",
      " [6.7 3.1 4.4 1.4 'versicolor']\n",
      " [5.6 3.0 4.5 1.5 'versicolor']\n",
      " [5.8 2.7 4.1 1.0 'versicolor']\n",
      " [6.2 2.2 4.5 1.5 'versicolor']\n",
      " [5.6 2.5 3.9 1.1 'versicolor']\n",
      " [5.9 3.2 4.8 1.8 'versicolor']\n",
      " [6.1 2.8 4.0 1.3 'versicolor']\n",
      " [6.3 2.5 4.9 1.5 'versicolor']\n",
      " [6.1 2.8 4.7 1.2 'versicolor']\n",
      " [6.4 2.9 4.3 1.3 'versicolor']\n",
      " [6.6 3.0 4.4 1.4 'versicolor']\n",
      " [6.8 2.8 4.8 1.4 'versicolor']\n",
      " [6.7 3.0 5.0 1.7 'versicolor']\n",
      " [6.0 2.9 4.5 1.5 'versicolor']\n",
      " [5.7 2.6 3.5 1.0 'versicolor']\n",
      " [5.5 2.4 3.8 1.1 'versicolor']\n",
      " [5.5 2.4 3.7 1.0 'versicolor']\n",
      " [5.8 2.7 3.9 1.2 'versicolor']\n",
      " [6.0 2.7 5.1 1.6 'versicolor']\n",
      " [5.4 3.0 4.5 1.5 'versicolor']\n",
      " [6.0 3.4 4.5 1.6 'versicolor']\n",
      " [6.7 3.1 4.7 1.5 'versicolor']\n",
      " [6.3 2.3 4.4 1.3 'versicolor']\n",
      " [5.6 3.0 4.1 1.3 'versicolor']\n",
      " [5.5 2.5 4.0 1.3 'versicolor']\n",
      " [5.5 2.6 4.4 1.2 'versicolor']\n",
      " [6.1 3.0 4.6 1.4 'versicolor']\n",
      " [5.8 2.6 4.0 1.2 'versicolor']\n",
      " [5.0 2.3 3.3 1.0 'versicolor']\n",
      " [5.6 2.7 4.2 1.3 'versicolor']\n",
      " [5.7 3.0 4.2 1.2 'versicolor']\n",
      " [5.7 2.9 4.2 1.3 'versicolor']\n",
      " [6.2 2.9 4.3 1.3 'versicolor']\n",
      " [5.1 2.5 3.0 1.1 'versicolor']\n",
      " [5.7 2.8 4.1 1.3 'versicolor']\n",
      " [6.3 3.3 6.0 2.5 'virginica']\n",
      " [5.8 2.7 5.1 1.9 'virginica']\n",
      " [7.1 3.0 5.9 2.1 'virginica']\n",
      " [6.3 2.9 5.6 1.8 'virginica']\n",
      " [6.5 3.0 5.8 2.2 'virginica']\n",
      " [7.6 3.0 6.6 2.1 'virginica']\n",
      " [4.9 2.5 4.5 1.7 'virginica']\n",
      " [7.3 2.9 6.3 1.8 'virginica']\n",
      " [6.7 2.5 5.8 1.8 'virginica']\n",
      " [7.2 3.6 6.1 2.5 'virginica']\n",
      " [6.5 3.2 5.1 2.0 'virginica']\n",
      " [6.4 2.7 5.3 1.9 'virginica']\n",
      " [6.8 3.0 5.5 2.1 'virginica']\n",
      " [5.7 2.5 5.0 2.0 'virginica']\n",
      " [5.8 2.8 5.1 2.4 'virginica']\n",
      " [6.4 3.2 5.3 2.3 'virginica']\n",
      " [6.5 3.0 5.5 1.8 'virginica']\n",
      " [7.7 3.8 6.7 2.2 'virginica']\n",
      " [7.7 2.6 6.9 2.3 'virginica']\n",
      " [6.0 2.2 5.0 1.5 'virginica']\n",
      " [6.9 3.2 5.7 2.3 'virginica']\n",
      " [5.6 2.8 4.9 2.0 'virginica']\n",
      " [7.7 2.8 6.7 2.0 'virginica']\n",
      " [6.3 2.7 4.9 1.8 'virginica']\n",
      " [6.7 3.3 5.7 2.1 'virginica']\n",
      " [7.2 3.2 6.0 1.8 'virginica']\n",
      " [6.2 2.8 4.8 1.8 'virginica']\n",
      " [6.1 3.0 4.9 1.8 'virginica']\n",
      " [6.4 2.8 5.6 2.1 'virginica']\n",
      " [7.2 3.0 5.8 1.6 'virginica']\n",
      " [7.4 2.8 6.1 1.9 'virginica']\n",
      " [7.9 3.8 6.4 2.0 'virginica']\n",
      " [6.4 2.8 5.6 2.2 'virginica']\n",
      " [6.3 2.8 5.1 1.5 'virginica']\n",
      " [6.1 2.6 5.6 1.4 'virginica']\n",
      " [7.7 3.0 6.1 2.3 'virginica']\n",
      " [6.3 3.4 5.6 2.4 'virginica']\n",
      " [6.4 3.1 5.5 1.8 'virginica']\n",
      " [6.0 3.0 4.8 1.8 'virginica']\n",
      " [6.9 3.1 5.4 2.1 'virginica']\n",
      " [6.7 3.1 5.6 2.4 'virginica']\n",
      " [6.9 3.1 5.1 2.3 'virginica']\n",
      " [5.8 2.7 5.1 1.9 'virginica']\n",
      " [6.8 3.2 5.9 2.3 'virginica']\n",
      " [6.7 3.3 5.7 2.5 'virginica']\n",
      " [6.7 3.0 5.2 2.3 'virginica']\n",
      " [6.3 2.5 5.0 1.9 'virginica']\n",
      " [6.5 3.0 5.2 2.0 'virginica']\n",
      " [6.2 3.4 5.4 2.3 'virginica']\n",
      " [5.9 3.0 5.1 1.8 'virginica']]\n"
     ]
    }
   ],
   "source": [
    "dataset = data.values\n",
    "print(dataset)"
   ]
  },
  {
   "cell_type": "code",
   "execution_count": 11,
   "metadata": {},
   "outputs": [],
   "source": [
    "np.random.seed(1)\n",
    "np.random.shuffle(dataset)"
   ]
  },
  {
   "cell_type": "code",
   "execution_count": 12,
   "metadata": {},
   "outputs": [
    {
     "data": {
      "text/plain": [
       "array([[5.8, 4.0, 1.2, 0.2, 'setosa'],\n",
       "       [5.1, 2.5, 3.0, 1.1, 'versicolor'],\n",
       "       [6.6, 3.0, 4.4, 1.4, 'versicolor'],\n",
       "       [5.4, 3.9, 1.3, 0.4, 'setosa'],\n",
       "       [7.9, 3.8, 6.4, 2.0, 'virginica'],\n",
       "       [6.3, 3.3, 4.7, 1.6, 'versicolor'],\n",
       "       [6.9, 3.1, 5.1, 2.3, 'virginica'],\n",
       "       [5.1, 3.8, 1.9, 0.4, 'setosa'],\n",
       "       [4.7, 3.2, 1.6, 0.2, 'setosa'],\n",
       "       [6.9, 3.2, 5.7, 2.3, 'virginica'],\n",
       "       [5.6, 2.7, 4.2, 1.3, 'versicolor'],\n",
       "       [5.4, 3.9, 1.7, 0.4, 'setosa'],\n",
       "       [7.1, 3.0, 5.9, 2.1, 'virginica'],\n",
       "       [6.4, 3.2, 4.5, 1.5, 'versicolor'],\n",
       "       [6.0, 2.9, 4.5, 1.5, 'versicolor'],\n",
       "       [4.4, 3.2, 1.3, 0.2, 'setosa'],\n",
       "       [5.8, 2.6, 4.0, 1.2, 'versicolor'],\n",
       "       [5.6, 3.0, 4.5, 1.5, 'versicolor'],\n",
       "       [5.4, 3.4, 1.5, 0.4, 'setosa'],\n",
       "       [5.0, 3.2, 1.2, 0.2, 'setosa'],\n",
       "       [5.5, 2.6, 4.4, 1.2, 'versicolor'],\n",
       "       [5.4, 3.0, 4.5, 1.5, 'versicolor'],\n",
       "       [6.7, 3.0, 5.0, 1.7, 'versicolor'],\n",
       "       [5.0, 3.5, 1.3, 0.3, 'setosa'],\n",
       "       [7.2, 3.2, 6.0, 1.8, 'virginica'],\n",
       "       [5.7, 2.8, 4.1, 1.3, 'versicolor'],\n",
       "       [5.5, 4.2, 1.4, 0.2, 'setosa'],\n",
       "       [5.1, 3.8, 1.5, 0.3, 'setosa'],\n",
       "       [6.1, 2.8, 4.7, 1.2, 'versicolor'],\n",
       "       [6.3, 2.5, 5.0, 1.9, 'virginica'],\n",
       "       [6.1, 3.0, 4.6, 1.4, 'versicolor'],\n",
       "       [7.7, 3.0, 6.1, 2.3, 'virginica'],\n",
       "       [5.6, 2.5, 3.9, 1.1, 'versicolor'],\n",
       "       [6.4, 2.8, 5.6, 2.1, 'virginica'],\n",
       "       [5.8, 2.8, 5.1, 2.4, 'virginica'],\n",
       "       [5.3, 3.7, 1.5, 0.2, 'setosa'],\n",
       "       [5.5, 2.3, 4.0, 1.3, 'versicolor'],\n",
       "       [5.2, 3.4, 1.4, 0.2, 'setosa'],\n",
       "       [6.5, 2.8, 4.6, 1.5, 'versicolor'],\n",
       "       [6.7, 2.5, 5.8, 1.8, 'virginica'],\n",
       "       [6.8, 3.0, 5.5, 2.1, 'virginica'],\n",
       "       [5.1, 3.5, 1.4, 0.3, 'setosa'],\n",
       "       [6.0, 2.2, 5.0, 1.5, 'virginica'],\n",
       "       [6.3, 2.9, 5.6, 1.8, 'virginica'],\n",
       "       [6.6, 2.9, 4.6, 1.3, 'versicolor'],\n",
       "       [7.7, 2.6, 6.9, 2.3, 'virginica'],\n",
       "       [5.7, 3.8, 1.7, 0.3, 'setosa'],\n",
       "       [5.0, 3.6, 1.4, 0.2, 'setosa'],\n",
       "       [4.8, 3.0, 1.4, 0.3, 'setosa'],\n",
       "       [5.2, 2.7, 3.9, 1.4, 'versicolor'],\n",
       "       [5.1, 3.4, 1.5, 0.2, 'setosa'],\n",
       "       [5.5, 3.5, 1.3, 0.2, 'setosa'],\n",
       "       [7.7, 3.8, 6.7, 2.2, 'virginica'],\n",
       "       [6.9, 3.1, 5.4, 2.1, 'virginica'],\n",
       "       [7.3, 2.9, 6.3, 1.8, 'virginica'],\n",
       "       [6.4, 2.8, 5.6, 2.2, 'virginica'],\n",
       "       [6.2, 2.8, 4.8, 1.8, 'virginica'],\n",
       "       [6.0, 3.4, 4.5, 1.6, 'versicolor'],\n",
       "       [7.7, 2.8, 6.7, 2.0, 'virginica'],\n",
       "       [5.7, 3.0, 4.2, 1.2, 'versicolor'],\n",
       "       [4.8, 3.4, 1.6, 0.2, 'setosa'],\n",
       "       [5.7, 2.5, 5.0, 2.0, 'virginica'],\n",
       "       [6.3, 2.7, 4.9, 1.8, 'virginica'],\n",
       "       [4.8, 3.0, 1.4, 0.1, 'setosa'],\n",
       "       [4.7, 3.2, 1.3, 0.2, 'setosa'],\n",
       "       [6.5, 3.0, 5.8, 2.2, 'virginica'],\n",
       "       [4.6, 3.4, 1.4, 0.3, 'setosa'],\n",
       "       [6.1, 3.0, 4.9, 1.8, 'virginica'],\n",
       "       [6.5, 3.2, 5.1, 2.0, 'virginica'],\n",
       "       [6.7, 3.1, 4.4, 1.4, 'versicolor'],\n",
       "       [5.7, 2.8, 4.5, 1.3, 'versicolor'],\n",
       "       [6.7, 3.3, 5.7, 2.5, 'virginica'],\n",
       "       [6.0, 3.0, 4.8, 1.8, 'virginica'],\n",
       "       [5.1, 3.8, 1.6, 0.2, 'setosa'],\n",
       "       [6.0, 2.2, 4.0, 1.0, 'versicolor'],\n",
       "       [6.4, 2.9, 4.3, 1.3, 'versicolor'],\n",
       "       [6.5, 3.0, 5.5, 1.8, 'virginica'],\n",
       "       [5.0, 2.3, 3.3, 1.0, 'versicolor'],\n",
       "       [6.3, 3.3, 6.0, 2.5, 'virginica'],\n",
       "       [5.5, 2.5, 4.0, 1.3, 'versicolor'],\n",
       "       [5.4, 3.7, 1.5, 0.2, 'setosa'],\n",
       "       [4.9, 3.1, 1.5, 0.1, 'setosa'],\n",
       "       [5.2, 4.1, 1.5, 0.1, 'setosa'],\n",
       "       [6.7, 3.3, 5.7, 2.1, 'virginica'],\n",
       "       [4.4, 3.0, 1.3, 0.2, 'setosa'],\n",
       "       [6.0, 2.7, 5.1, 1.6, 'versicolor'],\n",
       "       [6.4, 2.7, 5.3, 1.9, 'virginica'],\n",
       "       [5.9, 3.0, 5.1, 1.8, 'virginica'],\n",
       "       [5.2, 3.5, 1.5, 0.2, 'setosa'],\n",
       "       [5.1, 3.3, 1.7, 0.5, 'setosa'],\n",
       "       [5.8, 2.7, 4.1, 1.0, 'versicolor'],\n",
       "       [4.9, 3.1, 1.5, 0.1, 'setosa'],\n",
       "       [7.4, 2.8, 6.1, 1.9, 'virginica'],\n",
       "       [6.2, 2.9, 4.3, 1.3, 'versicolor'],\n",
       "       [7.6, 3.0, 6.6, 2.1, 'virginica'],\n",
       "       [6.7, 3.0, 5.2, 2.3, 'virginica'],\n",
       "       [6.3, 2.3, 4.4, 1.3, 'versicolor'],\n",
       "       [6.2, 3.4, 5.4, 2.3, 'virginica'],\n",
       "       [7.2, 3.6, 6.1, 2.5, 'virginica'],\n",
       "       [5.6, 2.9, 3.6, 1.3, 'versicolor'],\n",
       "       [5.7, 4.4, 1.5, 0.4, 'setosa'],\n",
       "       [5.8, 2.7, 3.9, 1.2, 'versicolor'],\n",
       "       [4.5, 2.3, 1.3, 0.3, 'setosa'],\n",
       "       [5.5, 2.4, 3.8, 1.1, 'versicolor'],\n",
       "       [6.9, 3.1, 4.9, 1.5, 'versicolor'],\n",
       "       [5.0, 3.4, 1.6, 0.4, 'setosa'],\n",
       "       [6.8, 2.8, 4.8, 1.4, 'versicolor'],\n",
       "       [5.0, 3.5, 1.6, 0.6, 'setosa'],\n",
       "       [4.8, 3.4, 1.9, 0.2, 'setosa'],\n",
       "       [6.3, 3.4, 5.6, 2.4, 'virginica'],\n",
       "       [5.6, 2.8, 4.9, 2.0, 'virginica'],\n",
       "       [6.8, 3.2, 5.9, 2.3, 'virginica'],\n",
       "       [5.0, 3.3, 1.4, 0.2, 'setosa'],\n",
       "       [5.1, 3.7, 1.5, 0.4, 'setosa'],\n",
       "       [5.9, 3.2, 4.8, 1.8, 'versicolor'],\n",
       "       [4.6, 3.1, 1.5, 0.2, 'setosa'],\n",
       "       [5.8, 2.7, 5.1, 1.9, 'virginica'],\n",
       "       [4.8, 3.1, 1.6, 0.2, 'setosa'],\n",
       "       [6.5, 3.0, 5.2, 2.0, 'virginica'],\n",
       "       [4.9, 2.5, 4.5, 1.7, 'virginica'],\n",
       "       [4.6, 3.2, 1.4, 0.2, 'setosa'],\n",
       "       [6.4, 3.2, 5.3, 2.3, 'virginica'],\n",
       "       [4.3, 3.0, 1.1, 0.1, 'setosa'],\n",
       "       [5.6, 3.0, 4.1, 1.3, 'versicolor'],\n",
       "       [4.4, 2.9, 1.4, 0.2, 'setosa'],\n",
       "       [5.5, 2.4, 3.7, 1.0, 'versicolor'],\n",
       "       [5.0, 2.0, 3.5, 1.0, 'versicolor'],\n",
       "       [5.1, 3.5, 1.4, 0.2, 'setosa'],\n",
       "       [4.9, 3.0, 1.4, 0.2, 'setosa'],\n",
       "       [4.9, 2.4, 3.3, 1.0, 'versicolor'],\n",
       "       [4.6, 3.6, 1.0, 0.2, 'setosa'],\n",
       "       [5.9, 3.0, 4.2, 1.5, 'versicolor'],\n",
       "       [6.1, 2.9, 4.7, 1.4, 'versicolor'],\n",
       "       [5.0, 3.4, 1.5, 0.2, 'setosa'],\n",
       "       [6.7, 3.1, 4.7, 1.5, 'versicolor'],\n",
       "       [5.7, 2.9, 4.2, 1.3, 'versicolor'],\n",
       "       [6.2, 2.2, 4.5, 1.5, 'versicolor'],\n",
       "       [7.0, 3.2, 4.7, 1.4, 'versicolor'],\n",
       "       [5.8, 2.7, 5.1, 1.9, 'virginica'],\n",
       "       [5.4, 3.4, 1.7, 0.2, 'setosa'],\n",
       "       [5.0, 3.0, 1.6, 0.2, 'setosa'],\n",
       "       [6.1, 2.6, 5.6, 1.4, 'virginica'],\n",
       "       [6.1, 2.8, 4.0, 1.3, 'versicolor'],\n",
       "       [7.2, 3.0, 5.8, 1.6, 'virginica'],\n",
       "       [5.7, 2.6, 3.5, 1.0, 'versicolor'],\n",
       "       [6.3, 2.8, 5.1, 1.5, 'virginica'],\n",
       "       [6.4, 3.1, 5.5, 1.8, 'virginica'],\n",
       "       [6.3, 2.5, 4.9, 1.5, 'versicolor'],\n",
       "       [6.7, 3.1, 5.6, 2.4, 'virginica'],\n",
       "       [4.9, 3.1, 1.5, 0.1, 'setosa']], dtype=object)"
      ]
     },
     "execution_count": 12,
     "metadata": {},
     "output_type": "execute_result"
    }
   ],
   "source": [
    "dataset"
   ]
  },
  {
   "cell_type": "code",
   "execution_count": 13,
   "metadata": {},
   "outputs": [],
   "source": [
    "X = dataset[:,:4]\n",
    "y = dataset[:,4]"
   ]
  },
  {
   "cell_type": "code",
   "execution_count": 14,
   "metadata": {},
   "outputs": [],
   "source": [
    "n_train = int(round(len(y) * 0.75))\n",
    "X_train = X[:n_train,:]\n",
    "y_train = y[:n_train]\n",
    "X_test = X[n_train:,:]\n",
    "y_test = y[n_train:]"
   ]
  },
  {
   "cell_type": "code",
   "execution_count": 15,
   "metadata": {},
   "outputs": [
    {
     "data": {
      "text/plain": [
       "((150, 4), (150,), (113, 4), (113,), (37, 4), (37,))"
      ]
     },
     "execution_count": 15,
     "metadata": {},
     "output_type": "execute_result"
    }
   ],
   "source": [
    "X.shape, y.shape, X_train.shape, y_train.shape, X_test.shape, y_test.shape"
   ]
  },
  {
   "cell_type": "markdown",
   "metadata": {},
   "source": [
    "### Criação dos modelos"
   ]
  },
  {
   "cell_type": "markdown",
   "metadata": {},
   "source": [
    "#### Classificadores utilizados:\n",
    "\n",
    "- DecisionTreeClassifier\n",
    "- SVC\n",
    "- KNN\n",
    "- Logistic Regression\n",
    "- Naive Bayes\n",
    "- SGDClassifier\n",
    "- RandomForest\n",
    "- GradientBoosting"
   ]
  },
  {
   "cell_type": "code",
   "execution_count": 16,
   "metadata": {},
   "outputs": [],
   "source": [
    "model_decisiontree = tree.DecisionTreeClassifier()\n",
    "model_svc = svm.SVC()\n",
    "model_knn = neighbors.KNeighborsClassifier()\n",
    "model_logisticregression = linear_model.LogisticRegression(multi_class='multinomial',solver='newton-cg')\n",
    "model_naivebayes = naive_bayes.GaussianNB()\n",
    "model_sgdclassifier = linear_model.SGDClassifier()\n",
    "model_randomforest = ensemble.RandomForestClassifier()\n",
    "model_gradientboosting = ensemble.GradientBoostingClassifier()"
   ]
  },
  {
   "cell_type": "code",
   "execution_count": 17,
   "metadata": {
    "scrolled": true
   },
   "outputs": [
    {
     "name": "stderr",
     "output_type": "stream",
     "text": [
      "/home/vinicius/miniconda2/lib/python2.7/site-packages/sklearn/linear_model/stochastic_gradient.py:128: FutureWarning: max_iter and tol parameters have been added in <class 'sklearn.linear_model.stochastic_gradient.SGDClassifier'> in 0.19. If both are left unset, they default to max_iter=5 and tol=None. If tol is not None, max_iter defaults to max_iter=1000. From 0.21, default max_iter will be 1000, and default tol will be 1e-3.\n",
      "  \"and default tol will be 1e-3.\" % type(self), FutureWarning)\n"
     ]
    },
    {
     "data": {
      "text/plain": [
       "GradientBoostingClassifier(criterion='friedman_mse', init=None,\n",
       "              learning_rate=0.1, loss='deviance', max_depth=3,\n",
       "              max_features=None, max_leaf_nodes=None,\n",
       "              min_impurity_decrease=0.0, min_impurity_split=None,\n",
       "              min_samples_leaf=1, min_samples_split=2,\n",
       "              min_weight_fraction_leaf=0.0, n_estimators=100,\n",
       "              presort='auto', random_state=None, subsample=1.0, verbose=0,\n",
       "              warm_start=False)"
      ]
     },
     "execution_count": 17,
     "metadata": {},
     "output_type": "execute_result"
    }
   ],
   "source": [
    "model_decisiontree.fit(X_train,y_train)\n",
    "model_svc.fit(X_train,y_train)\n",
    "model_knn.fit(X_train,y_train)\n",
    "model_logisticregression.fit(X_train,y_train)\n",
    "model_naivebayes.fit(X_train,y_train)\n",
    "model_sgdclassifier.fit(X_train,y_train)\n",
    "model_randomforest.fit(X_train,y_train)\n",
    "model_gradientboosting.fit(X_train,y_train)"
   ]
  },
  {
   "cell_type": "code",
   "execution_count": 18,
   "metadata": {
    "scrolled": true
   },
   "outputs": [],
   "source": [
    "pred_decisiontree = model_decisiontree.predict(X_test)\n",
    "pred_svc = model_svc.predict(X_test)\n",
    "pred_knn = model_knn.predict(X_test)\n",
    "pred_logisticregression = model_logisticregression.predict(X_test)\n",
    "pred_naivebayes = model_naivebayes.predict(X_test)\n",
    "pred_sgdclassifier = model_sgdclassifier.predict(X_test)\n",
    "pred_randomforest = model_randomforest.predict(X_test)\n",
    "pred_gradientboosting = model_gradientboosting.predict(X_test)"
   ]
  },
  {
   "cell_type": "markdown",
   "metadata": {},
   "source": [
    "### Resultados"
   ]
  },
  {
   "cell_type": "markdown",
   "metadata": {},
   "source": [
    "#### DecisionTreeClassifier"
   ]
  },
  {
   "cell_type": "code",
   "execution_count": 19,
   "metadata": {},
   "outputs": [
    {
     "name": "stdout",
     "output_type": "stream",
     "text": [
      "             precision    recall  f1-score   support\n",
      "\n",
      "     setosa       1.00      1.00      1.00        13\n",
      " versicolor       0.75      0.86      0.80        14\n",
      "  virginica       0.75      0.60      0.67        10\n",
      "\n",
      "avg / total       0.84      0.84      0.83        37\n",
      "\n"
     ]
    }
   ],
   "source": [
    "print(metrics.classification_report(y_test, pred_decisiontree))"
   ]
  },
  {
   "cell_type": "code",
   "execution_count": 20,
   "metadata": {},
   "outputs": [
    {
     "name": "stdout",
     "output_type": "stream",
     "text": [
      "0.837837837838\n"
     ]
    }
   ],
   "source": [
    "dtc = metrics.accuracy_score(y_test, pred_decisiontree)\n",
    "print(dtc)"
   ]
  },
  {
   "cell_type": "markdown",
   "metadata": {},
   "source": [
    "#### C-Support Vector Classification (SVC)"
   ]
  },
  {
   "cell_type": "code",
   "execution_count": 21,
   "metadata": {},
   "outputs": [
    {
     "name": "stdout",
     "output_type": "stream",
     "text": [
      "             precision    recall  f1-score   support\n",
      "\n",
      "     setosa       1.00      1.00      1.00        13\n",
      " versicolor       0.93      1.00      0.97        14\n",
      "  virginica       1.00      0.90      0.95        10\n",
      "\n",
      "avg / total       0.97      0.97      0.97        37\n",
      "\n"
     ]
    }
   ],
   "source": [
    "print(metrics.classification_report(y_test, pred_svc))"
   ]
  },
  {
   "cell_type": "code",
   "execution_count": 22,
   "metadata": {},
   "outputs": [
    {
     "name": "stdout",
     "output_type": "stream",
     "text": [
      "0.972972972973\n"
     ]
    }
   ],
   "source": [
    "svc = metrics.accuracy_score(y_test, pred_svc)\n",
    "print(svc)"
   ]
  },
  {
   "cell_type": "markdown",
   "metadata": {},
   "source": [
    "#### KNeighborsClassifier (KNN)"
   ]
  },
  {
   "cell_type": "code",
   "execution_count": 23,
   "metadata": {},
   "outputs": [
    {
     "name": "stdout",
     "output_type": "stream",
     "text": [
      "             precision    recall  f1-score   support\n",
      "\n",
      "     setosa       1.00      1.00      1.00        13\n",
      " versicolor       0.92      0.86      0.89        14\n",
      "  virginica       0.82      0.90      0.86        10\n",
      "\n",
      "avg / total       0.92      0.92      0.92        37\n",
      "\n"
     ]
    }
   ],
   "source": [
    "print(metrics.classification_report(y_test, pred_knn))"
   ]
  },
  {
   "cell_type": "code",
   "execution_count": 24,
   "metadata": {},
   "outputs": [
    {
     "name": "stdout",
     "output_type": "stream",
     "text": [
      "0.918918918919\n"
     ]
    }
   ],
   "source": [
    "knn = metrics.accuracy_score(y_test, pred_knn)\n",
    "print(knn)"
   ]
  },
  {
   "cell_type": "markdown",
   "metadata": {},
   "source": [
    "#### LogisticRegression"
   ]
  },
  {
   "cell_type": "code",
   "execution_count": 25,
   "metadata": {},
   "outputs": [
    {
     "name": "stdout",
     "output_type": "stream",
     "text": [
      "             precision    recall  f1-score   support\n",
      "\n",
      "     setosa       1.00      1.00      1.00        13\n",
      " versicolor       0.87      0.93      0.90        14\n",
      "  virginica       0.89      0.80      0.84        10\n",
      "\n",
      "avg / total       0.92      0.92      0.92        37\n",
      "\n"
     ]
    }
   ],
   "source": [
    "print(metrics.classification_report(y_test, pred_logisticregression))"
   ]
  },
  {
   "cell_type": "code",
   "execution_count": 27,
   "metadata": {},
   "outputs": [
    {
     "name": "stdout",
     "output_type": "stream",
     "text": [
      "0.918918918919\n"
     ]
    }
   ],
   "source": [
    "lr = metrics.accuracy_score(y_test, pred_logisticregression)\n",
    "print(lr)"
   ]
  },
  {
   "cell_type": "markdown",
   "metadata": {},
   "source": [
    "#### GaussianNB"
   ]
  },
  {
   "cell_type": "code",
   "execution_count": 28,
   "metadata": {},
   "outputs": [
    {
     "name": "stdout",
     "output_type": "stream",
     "text": [
      "             precision    recall  f1-score   support\n",
      "\n",
      "     setosa       1.00      1.00      1.00        13\n",
      " versicolor       0.81      0.93      0.87        14\n",
      "  virginica       0.88      0.70      0.78        10\n",
      "\n",
      "avg / total       0.90      0.89      0.89        37\n",
      "\n"
     ]
    }
   ],
   "source": [
    "print(metrics.classification_report(y_test, pred_naivebayes))"
   ]
  },
  {
   "cell_type": "code",
   "execution_count": 29,
   "metadata": {},
   "outputs": [
    {
     "name": "stdout",
     "output_type": "stream",
     "text": [
      "0.891891891892\n"
     ]
    }
   ],
   "source": [
    "nb = metrics.accuracy_score(y_test, pred_naivebayes)\n",
    "print(nb)"
   ]
  },
  {
   "cell_type": "markdown",
   "metadata": {},
   "source": [
    "#### SGDClassifier"
   ]
  },
  {
   "cell_type": "code",
   "execution_count": 30,
   "metadata": {},
   "outputs": [
    {
     "name": "stdout",
     "output_type": "stream",
     "text": [
      "             precision    recall  f1-score   support\n",
      "\n",
      "     setosa       0.72      1.00      0.84        13\n",
      " versicolor       1.00      0.14      0.25        14\n",
      "  virginica       0.59      1.00      0.74        10\n",
      "\n",
      "avg / total       0.79      0.68      0.59        37\n",
      "\n"
     ]
    }
   ],
   "source": [
    "print(metrics.classification_report(y_test, pred_sgdclassifier))"
   ]
  },
  {
   "cell_type": "code",
   "execution_count": 31,
   "metadata": {},
   "outputs": [
    {
     "name": "stdout",
     "output_type": "stream",
     "text": [
      "0.675675675676\n"
     ]
    }
   ],
   "source": [
    "sgd = metrics.accuracy_score(y_test, pred_sgdclassifier)\n",
    "print(sgd)"
   ]
  },
  {
   "cell_type": "markdown",
   "metadata": {},
   "source": [
    "#### RandomForestClassifier"
   ]
  },
  {
   "cell_type": "code",
   "execution_count": 32,
   "metadata": {},
   "outputs": [
    {
     "name": "stdout",
     "output_type": "stream",
     "text": [
      "             precision    recall  f1-score   support\n",
      "\n",
      "     setosa       1.00      1.00      1.00        13\n",
      " versicolor       0.81      0.93      0.87        14\n",
      "  virginica       0.88      0.70      0.78        10\n",
      "\n",
      "avg / total       0.90      0.89      0.89        37\n",
      "\n"
     ]
    }
   ],
   "source": [
    "print(metrics.classification_report(y_test, pred_randomforest))"
   ]
  },
  {
   "cell_type": "code",
   "execution_count": 33,
   "metadata": {},
   "outputs": [
    {
     "name": "stdout",
     "output_type": "stream",
     "text": [
      "0.891891891892\n"
     ]
    }
   ],
   "source": [
    "rf = metrics.accuracy_score(y_test, pred_randomforest)\n",
    "print(rf)"
   ]
  },
  {
   "cell_type": "markdown",
   "metadata": {},
   "source": [
    "#### GradientBoostingClassifier"
   ]
  },
  {
   "cell_type": "code",
   "execution_count": 34,
   "metadata": {},
   "outputs": [
    {
     "name": "stdout",
     "output_type": "stream",
     "text": [
      "             precision    recall  f1-score   support\n",
      "\n",
      "     setosa       1.00      1.00      1.00        13\n",
      " versicolor       0.76      0.93      0.84        14\n",
      "  virginica       0.86      0.60      0.71        10\n",
      "\n",
      "avg / total       0.87      0.86      0.86        37\n",
      "\n"
     ]
    }
   ],
   "source": [
    "print(metrics.classification_report(y_test, pred_gradientboosting))"
   ]
  },
  {
   "cell_type": "code",
   "execution_count": 35,
   "metadata": {},
   "outputs": [
    {
     "name": "stdout",
     "output_type": "stream",
     "text": [
      "0.864864864865\n"
     ]
    }
   ],
   "source": [
    "gb = metrics.accuracy_score(y_test, pred_gradientboosting)\n",
    "print(gb)"
   ]
  },
  {
   "cell_type": "markdown",
   "metadata": {},
   "source": [
    "### Comparando os resultados"
   ]
  },
  {
   "cell_type": "code",
   "execution_count": 39,
   "metadata": {},
   "outputs": [
    {
     "name": "stdout",
     "output_type": "stream",
     "text": [
      "DTC: 0.837837837838\n",
      "SVC: 0.972972972973\n",
      "KNN: 0.918918918919\n",
      "LR: 0.918918918919\n",
      "NB: 0.891891891892\n",
      "SGD: 0.675675675676\n",
      "RF: 0.891891891892\n",
      "GB: 0.864864864865\n"
     ]
    }
   ],
   "source": [
    "class_names = ['DTC','SVC','KNN','LR','NB','SGD','RF','GB']\n",
    "class_ = [dtc,svc,knn,lr,nb,sgd,rf,gb]\n",
    "for i in range(0,len(class_names)):\n",
    "    print(class_names[i] + ': ' + str(class_[i]))"
   ]
  },
  {
   "cell_type": "code",
   "execution_count": 41,
   "metadata": {},
   "outputs": [
    {
     "data": {
      "text/plain": [
       "<Container object of 8 artists>"
      ]
     },
     "execution_count": 41,
     "metadata": {},
     "output_type": "execute_result"
    },
    {
     "data": {
      "image/png": "[encoded data removed]",
      "text/plain": [
       "<matplotlib.figure.Figure at 0x7f1c8c524e90>"
      ]
     },
     "metadata": {},
     "output_type": "display_data"
    }
   ],
   "source": [
    "plt.grid()\n",
    "plt.bar(class_names,class_)"
   ]
  }
 ],
 "metadata": {
  "kernelspec": {
   "display_name": "Python 3",
   "language": "python",
   "name": "python3"
  },
  "language_info": {
   "codemirror_mode": {
    "name": "ipython",
    "version": 2
   },
   "file_extension": ".py",
   "mimetype": "text/x-python",
   "name": "python",
   "nbconvert_exporter": "python",
   "pygments_lexer": "ipython2",
   "version": "2.7.14"
  }
 },
 "nbformat": 4,
 "nbformat_minor": 2
}
