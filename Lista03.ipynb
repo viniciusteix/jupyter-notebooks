{
 "cells": [
  {
   "cell_type": "code",
   "execution_count": 113,
   "metadata": {},
   "outputs": [],
   "source": [
    "from mylibs import stats as st\n",
    "from mylibs import resample as re\n",
    "from mylibs import linear_model as lm\n",
    "from mylibs import metrics as ms\n",
    "import numpy as np\n",
    "import pandas as pd\n",
    "import importlib \n",
    "from sklearn import linear_model"
   ]
  },
  {
   "cell_type": "code",
   "execution_count": 116,
   "metadata": {},
   "outputs": [
    {
     "data": {
      "text/plain": [
       "<module 'mylibs.metrics' from '/home/vinicius/Dropbox/UFC - Ciência da Computação/7° Semestre/Aprendizado de Máquina/jupyter-notebooks/mylibs/metrics.py'>"
      ]
     },
     "execution_count": 116,
     "metadata": {},
     "output_type": "execute_result"
    }
   ],
   "source": [
    "importlib.reload(st)\n",
    "importlib.reload(re)\n",
    "importlib.reload(lm)\n",
    "importlib.reload(ms)"
   ]
  },
  {
   "cell_type": "markdown",
   "metadata": {},
   "source": [
    "### Questão 02"
   ]
  },
  {
   "cell_type": "markdown",
   "metadata": {},
   "source": [
    "#### Item a)"
   ]
  },
  {
   "cell_type": "code",
   "execution_count": 5,
   "metadata": {},
   "outputs": [],
   "source": [
    "X = np.array([1400,1600,1700,1875,1100,1550,2350,2450,1425,1700])\n",
    "y = np.array([245000,312000,279000,308000,199000,219000,405000,324000,319000,255000])"
   ]
  },
  {
   "cell_type": "markdown",
   "metadata": {},
   "source": [
    "#### Item b)"
   ]
  },
  {
   "cell_type": "code",
   "execution_count": 6,
   "metadata": {},
   "outputs": [
    {
     "name": "stdout",
     "output_type": "stream",
     "text": [
      "Média: 1715.0 | Desvio padrão: 396.42149285829595 | Variância: 157150.0\n"
     ]
    }
   ],
   "source": [
    "print(\"Média: {} | Desvio padrão: {} | Variância: {}\".format(st.mean(X),st.stdev(X),st.var(X)))"
   ]
  },
  {
   "cell_type": "markdown",
   "metadata": {},
   "source": [
    "#### Item c)"
   ]
  },
  {
   "cell_type": "code",
   "execution_count": 15,
   "metadata": {},
   "outputs": [],
   "source": [
    "split_ = re.split_train_test(len(X),0.7,0)\n",
    "idx_train = split_[0]\n",
    "idx_test = split_[1]"
   ]
  },
  {
   "cell_type": "code",
   "execution_count": 77,
   "metadata": {},
   "outputs": [],
   "source": [
    "X_train = np.array(X[idx_train])\n",
    "y_train = np.array(y[idx_train])\n",
    "X_test = np.array(X[idx_test])\n",
    "y_test = np.array(y[idx_test])"
   ]
  },
  {
   "cell_type": "code",
   "execution_count": 82,
   "metadata": {},
   "outputs": [],
   "source": [
    "X_train = X_train.reshape(-1,1)\n",
    "X_test = X_test.reshape(-1,1)"
   ]
  },
  {
   "cell_type": "code",
   "execution_count": 87,
   "metadata": {},
   "outputs": [
    {
     "name": "stdout",
     "output_type": "stream",
     "text": [
      "(7, 1)\n",
      "(7,)\n",
      "(3, 1)\n",
      "(3,)\n"
     ]
    }
   ],
   "source": [
    "print(X_train.shape)\n",
    "print(y_train.shape)\n",
    "print(X_test.shape)\n",
    "print(y_test.shape)"
   ]
  },
  {
   "cell_type": "markdown",
   "metadata": {},
   "source": [
    "#### Item d)"
   ]
  },
  {
   "cell_type": "code",
   "execution_count": 88,
   "metadata": {},
   "outputs": [],
   "source": [
    "model_simple = lm.SimpleLinearRegression()\n",
    "model_sklearn = linear_model.LinearRegression()"
   ]
  },
  {
   "cell_type": "markdown",
   "metadata": {},
   "source": [
    "#### Item e)"
   ]
  },
  {
   "cell_type": "code",
   "execution_count": 90,
   "metadata": {},
   "outputs": [
    {
     "data": {
      "text/plain": [
       "LinearRegression(copy_X=True, fit_intercept=True, n_jobs=1, normalize=False)"
      ]
     },
     "execution_count": 90,
     "metadata": {},
     "output_type": "execute_result"
    }
   ],
   "source": [
    "model_simple.fit(X_train,y_train)\n",
    "model_sklearn.fit(X_train,y_train)"
   ]
  },
  {
   "cell_type": "markdown",
   "metadata": {},
   "source": [
    "#### Item f)"
   ]
  },
  {
   "cell_type": "code",
   "execution_count": 110,
   "metadata": {},
   "outputs": [],
   "source": [
    "y_pred_simple = model_simple.predict(X_test)\n",
    "y_pred_sklearn = model_sklearn.predict(X_test)"
   ]
  },
  {
   "cell_type": "code",
   "execution_count": 111,
   "metadata": {},
   "outputs": [],
   "source": [
    "y_pred_simple = y_pred_simple[:,0]"
   ]
  },
  {
   "cell_type": "code",
   "execution_count": 112,
   "metadata": {},
   "outputs": [
    {
     "name": "stdout",
     "output_type": "stream",
     "text": [
      "[317924.39611566 239269.87475993 264108.14466174]\n",
      "[310458.49752129 262834.11719842 277873.39519512]\n"
     ]
    }
   ],
   "source": [
    "print(y_pred_simple)\n",
    "print(y_pred_sklearn)"
   ]
  },
  {
   "cell_type": "markdown",
   "metadata": {},
   "source": [
    "#### Item g)"
   ]
  },
  {
   "cell_type": "code",
   "execution_count": 120,
   "metadata": {},
   "outputs": [],
   "source": [
    "mse_simple = ms.mse(y_test,y_pred_simple)\n",
    "mse_sklearn = ms.mse(y_test,y_pred_sklearn)\n",
    "rmse_simple = ms.rmse(y_test,y_pred_simple)\n",
    "rmse_sklearn = ms.rmse(y_test,y_pred_sklearn)\n",
    "mae_simple = ms.mae(y_test,y_pred_simple)\n",
    "mae_sklearn = ms.mae(y_test,y_pred_sklearn)"
   ]
  },
  {
   "cell_type": "code",
   "execution_count": 123,
   "metadata": {},
   "outputs": [
    {
     "name": "stdout",
     "output_type": "stream",
     "text": [
      "Simple Linear Regression:\n",
      "MSE: 722024229.4507469 | RMSE: 26870.508544699092 | MAE: 20254.222005824686\n"
     ]
    }
   ],
   "source": [
    "print(\"Simple Linear Regression:\")\n",
    "print(\"MSE: {} | RMSE: {} | MAE: {}\".format(mse_simple,rmse_simple,mae_simple))"
   ]
  },
  {
   "cell_type": "code",
   "execution_count": 124,
   "metadata": {},
   "outputs": [
    {
     "name": "stdout",
     "output_type": "stream",
     "text": [
      "SKLearn Linear Regression:\n",
      "MSE: 1263392202.703318 | RMSE: 35544.228824146936 | MAE: 26388.66997161137\n"
     ]
    }
   ],
   "source": [
    "print(\"SKLearn Linear Regression:\")\n",
    "print(\"MSE: {} | RMSE: {} | MAE: {}\".format(mse_sklearn,rmse_sklearn,mae_sklearn))"
   ]
  }
 ],
 "metadata": {
  "kernelspec": {
   "display_name": "Python 3",
   "language": "python",
   "name": "python3"
  },
  "language_info": {
   "codemirror_mode": {
    "name": "ipython",
    "version": 3
   },
   "file_extension": ".py",
   "mimetype": "text/x-python",
   "name": "python",
   "nbconvert_exporter": "python",
   "pygments_lexer": "ipython3",
   "version": "3.6.4"
  }
 },
 "nbformat": 4,
 "nbformat_minor": 2
}
